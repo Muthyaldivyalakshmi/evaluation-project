{
 "cells": [
  {
   "cell_type": "markdown",
   "id": "e1167588",
   "metadata": {},
   "source": [
    "# Loan Application Status Prediction"
   ]
  },
  {
   "cell_type": "markdown",
   "id": "0fab1f1d",
   "metadata": {},
   "source": [
    "# Introduction"
   ]
  },
  {
   "cell_type": "markdown",
   "id": "0858084f",
   "metadata": {},
   "source": [
    "In this project, we aim to predict the loan application status of applicants based on various features such as gender, marital status of applicantsetc. The dataset inculdes details of applicants who have applied for a loan amd tak is to build machine learning model that can predict whether a loan will be approved or not"
   ]
  },
  {
   "cell_type": "code",
   "execution_count": 1,
   "id": "6703a765",
   "metadata": {},
   "outputs": [],
   "source": [
    "import pandas as pd\n",
    "import numpy as np\n",
    "import matplotlib.pyplot as plt\n",
    "import seaborn as sns\n",
    "from sklearn.model_selection import train_test_split, cross_val_score, GridSearchCV\n",
    "from sklearn.preprocessing import LabelEncoder, StandardScaler\n",
    "from sklearn.metrics import accuracy_score, classification_report, confusion_matrix\n",
    "from sklearn.pipeline import Pipeline\n",
    "from sklearn.linear_model import LogisticRegression\n",
    "from sklearn.tree import DecisionTreeClassifier\n",
    "from sklearn.ensemble import RandomForestClassifier\n",
    "\n",
    "import warnings\n",
    "warnings.filterwarnings('ignore')"
   ]
  },
  {
   "cell_type": "markdown",
   "id": "a44613e8",
   "metadata": {},
   "source": [
    "# Dataset Description"
   ]
  },
  {
   "cell_type": "code",
   "execution_count": 2,
   "id": "e66778a7",
   "metadata": {},
   "outputs": [],
   "source": [
    "df=pd.read_csv('Loan Application Status.csv')"
   ]
  },
  {
   "cell_type": "code",
   "execution_count": 3,
   "id": "b26c97cb",
   "metadata": {},
   "outputs": [
    {
     "data": {
      "text/html": [
       "<div>\n",
       "<style scoped>\n",
       "    .dataframe tbody tr th:only-of-type {\n",
       "        vertical-align: middle;\n",
       "    }\n",
       "\n",
       "    .dataframe tbody tr th {\n",
       "        vertical-align: top;\n",
       "    }\n",
       "\n",
       "    .dataframe thead th {\n",
       "        text-align: right;\n",
       "    }\n",
       "</style>\n",
       "<table border=\"1\" class=\"dataframe\">\n",
       "  <thead>\n",
       "    <tr style=\"text-align: right;\">\n",
       "      <th></th>\n",
       "      <th>LP001002</th>\n",
       "      <th>Male</th>\n",
       "      <th>No</th>\n",
       "      <th>0</th>\n",
       "      <th>Graduate</th>\n",
       "      <th>No.1</th>\n",
       "      <th>5849</th>\n",
       "      <th>0.1</th>\n",
       "      <th>Unnamed: 8</th>\n",
       "      <th>360</th>\n",
       "      <th>1</th>\n",
       "      <th>Urban</th>\n",
       "      <th>Y</th>\n",
       "    </tr>\n",
       "  </thead>\n",
       "  <tbody>\n",
       "    <tr>\n",
       "      <th>0</th>\n",
       "      <td>LP001003</td>\n",
       "      <td>Male</td>\n",
       "      <td>Yes</td>\n",
       "      <td>1</td>\n",
       "      <td>Graduate</td>\n",
       "      <td>No</td>\n",
       "      <td>4583</td>\n",
       "      <td>1508.0</td>\n",
       "      <td>128.0</td>\n",
       "      <td>360.0</td>\n",
       "      <td>1.0</td>\n",
       "      <td>Rural</td>\n",
       "      <td>N</td>\n",
       "    </tr>\n",
       "    <tr>\n",
       "      <th>1</th>\n",
       "      <td>LP001005</td>\n",
       "      <td>Male</td>\n",
       "      <td>Yes</td>\n",
       "      <td>0</td>\n",
       "      <td>Graduate</td>\n",
       "      <td>Yes</td>\n",
       "      <td>3000</td>\n",
       "      <td>0.0</td>\n",
       "      <td>66.0</td>\n",
       "      <td>360.0</td>\n",
       "      <td>1.0</td>\n",
       "      <td>Urban</td>\n",
       "      <td>Y</td>\n",
       "    </tr>\n",
       "    <tr>\n",
       "      <th>2</th>\n",
       "      <td>LP001006</td>\n",
       "      <td>Male</td>\n",
       "      <td>Yes</td>\n",
       "      <td>0</td>\n",
       "      <td>Not Graduate</td>\n",
       "      <td>No</td>\n",
       "      <td>2583</td>\n",
       "      <td>2358.0</td>\n",
       "      <td>120.0</td>\n",
       "      <td>360.0</td>\n",
       "      <td>1.0</td>\n",
       "      <td>Urban</td>\n",
       "      <td>Y</td>\n",
       "    </tr>\n",
       "    <tr>\n",
       "      <th>3</th>\n",
       "      <td>LP001008</td>\n",
       "      <td>Male</td>\n",
       "      <td>No</td>\n",
       "      <td>0</td>\n",
       "      <td>Graduate</td>\n",
       "      <td>No</td>\n",
       "      <td>6000</td>\n",
       "      <td>0.0</td>\n",
       "      <td>141.0</td>\n",
       "      <td>360.0</td>\n",
       "      <td>1.0</td>\n",
       "      <td>Urban</td>\n",
       "      <td>Y</td>\n",
       "    </tr>\n",
       "    <tr>\n",
       "      <th>4</th>\n",
       "      <td>LP001011</td>\n",
       "      <td>Male</td>\n",
       "      <td>Yes</td>\n",
       "      <td>2</td>\n",
       "      <td>Graduate</td>\n",
       "      <td>Yes</td>\n",
       "      <td>5417</td>\n",
       "      <td>4196.0</td>\n",
       "      <td>267.0</td>\n",
       "      <td>360.0</td>\n",
       "      <td>1.0</td>\n",
       "      <td>Urban</td>\n",
       "      <td>Y</td>\n",
       "    </tr>\n",
       "    <tr>\n",
       "      <th>...</th>\n",
       "      <td>...</td>\n",
       "      <td>...</td>\n",
       "      <td>...</td>\n",
       "      <td>...</td>\n",
       "      <td>...</td>\n",
       "      <td>...</td>\n",
       "      <td>...</td>\n",
       "      <td>...</td>\n",
       "      <td>...</td>\n",
       "      <td>...</td>\n",
       "      <td>...</td>\n",
       "      <td>...</td>\n",
       "      <td>...</td>\n",
       "    </tr>\n",
       "    <tr>\n",
       "      <th>608</th>\n",
       "      <td>LP002978</td>\n",
       "      <td>Female</td>\n",
       "      <td>No</td>\n",
       "      <td>0</td>\n",
       "      <td>Graduate</td>\n",
       "      <td>No</td>\n",
       "      <td>2900</td>\n",
       "      <td>0.0</td>\n",
       "      <td>71.0</td>\n",
       "      <td>360.0</td>\n",
       "      <td>1.0</td>\n",
       "      <td>Rural</td>\n",
       "      <td>Y</td>\n",
       "    </tr>\n",
       "    <tr>\n",
       "      <th>609</th>\n",
       "      <td>LP002979</td>\n",
       "      <td>Male</td>\n",
       "      <td>Yes</td>\n",
       "      <td>3+</td>\n",
       "      <td>Graduate</td>\n",
       "      <td>No</td>\n",
       "      <td>4106</td>\n",
       "      <td>0.0</td>\n",
       "      <td>40.0</td>\n",
       "      <td>180.0</td>\n",
       "      <td>1.0</td>\n",
       "      <td>Rural</td>\n",
       "      <td>Y</td>\n",
       "    </tr>\n",
       "    <tr>\n",
       "      <th>610</th>\n",
       "      <td>LP002983</td>\n",
       "      <td>Male</td>\n",
       "      <td>Yes</td>\n",
       "      <td>1</td>\n",
       "      <td>Graduate</td>\n",
       "      <td>No</td>\n",
       "      <td>8072</td>\n",
       "      <td>240.0</td>\n",
       "      <td>253.0</td>\n",
       "      <td>360.0</td>\n",
       "      <td>1.0</td>\n",
       "      <td>Urban</td>\n",
       "      <td>Y</td>\n",
       "    </tr>\n",
       "    <tr>\n",
       "      <th>611</th>\n",
       "      <td>LP002984</td>\n",
       "      <td>Male</td>\n",
       "      <td>Yes</td>\n",
       "      <td>2</td>\n",
       "      <td>Graduate</td>\n",
       "      <td>No</td>\n",
       "      <td>7583</td>\n",
       "      <td>0.0</td>\n",
       "      <td>187.0</td>\n",
       "      <td>360.0</td>\n",
       "      <td>1.0</td>\n",
       "      <td>Urban</td>\n",
       "      <td>Y</td>\n",
       "    </tr>\n",
       "    <tr>\n",
       "      <th>612</th>\n",
       "      <td>LP002990</td>\n",
       "      <td>Female</td>\n",
       "      <td>No</td>\n",
       "      <td>0</td>\n",
       "      <td>Graduate</td>\n",
       "      <td>Yes</td>\n",
       "      <td>4583</td>\n",
       "      <td>0.0</td>\n",
       "      <td>133.0</td>\n",
       "      <td>360.0</td>\n",
       "      <td>0.0</td>\n",
       "      <td>Semiurban</td>\n",
       "      <td>N</td>\n",
       "    </tr>\n",
       "  </tbody>\n",
       "</table>\n",
       "<p>613 rows × 13 columns</p>\n",
       "</div>"
      ],
      "text/plain": [
       "     LP001002    Male   No   0      Graduate No.1  5849     0.1  Unnamed: 8  \\\n",
       "0    LP001003    Male  Yes   1      Graduate   No  4583  1508.0       128.0   \n",
       "1    LP001005    Male  Yes   0      Graduate  Yes  3000     0.0        66.0   \n",
       "2    LP001006    Male  Yes   0  Not Graduate   No  2583  2358.0       120.0   \n",
       "3    LP001008    Male   No   0      Graduate   No  6000     0.0       141.0   \n",
       "4    LP001011    Male  Yes   2      Graduate  Yes  5417  4196.0       267.0   \n",
       "..        ...     ...  ...  ..           ...  ...   ...     ...         ...   \n",
       "608  LP002978  Female   No   0      Graduate   No  2900     0.0        71.0   \n",
       "609  LP002979    Male  Yes  3+      Graduate   No  4106     0.0        40.0   \n",
       "610  LP002983    Male  Yes   1      Graduate   No  8072   240.0       253.0   \n",
       "611  LP002984    Male  Yes   2      Graduate   No  7583     0.0       187.0   \n",
       "612  LP002990  Female   No   0      Graduate  Yes  4583     0.0       133.0   \n",
       "\n",
       "       360    1      Urban  Y  \n",
       "0    360.0  1.0      Rural  N  \n",
       "1    360.0  1.0      Urban  Y  \n",
       "2    360.0  1.0      Urban  Y  \n",
       "3    360.0  1.0      Urban  Y  \n",
       "4    360.0  1.0      Urban  Y  \n",
       "..     ...  ...        ... ..  \n",
       "608  360.0  1.0      Rural  Y  \n",
       "609  180.0  1.0      Rural  Y  \n",
       "610  360.0  1.0      Urban  Y  \n",
       "611  360.0  1.0      Urban  Y  \n",
       "612  360.0  0.0  Semiurban  N  \n",
       "\n",
       "[613 rows x 13 columns]"
      ]
     },
     "execution_count": 3,
     "metadata": {},
     "output_type": "execute_result"
    }
   ],
   "source": [
    "df"
   ]
  },
  {
   "cell_type": "code",
   "execution_count": 4,
   "id": "7fae4e2d",
   "metadata": {},
   "outputs": [
    {
     "data": {
      "text/html": [
       "<div>\n",
       "<style scoped>\n",
       "    .dataframe tbody tr th:only-of-type {\n",
       "        vertical-align: middle;\n",
       "    }\n",
       "\n",
       "    .dataframe tbody tr th {\n",
       "        vertical-align: top;\n",
       "    }\n",
       "\n",
       "    .dataframe thead th {\n",
       "        text-align: right;\n",
       "    }\n",
       "</style>\n",
       "<table border=\"1\" class=\"dataframe\">\n",
       "  <thead>\n",
       "    <tr style=\"text-align: right;\">\n",
       "      <th></th>\n",
       "      <th>LP001002</th>\n",
       "      <th>Male</th>\n",
       "      <th>No</th>\n",
       "      <th>0</th>\n",
       "      <th>Graduate</th>\n",
       "      <th>No.1</th>\n",
       "      <th>5849</th>\n",
       "      <th>0.1</th>\n",
       "      <th>Unnamed: 8</th>\n",
       "      <th>360</th>\n",
       "      <th>1</th>\n",
       "      <th>Urban</th>\n",
       "      <th>Y</th>\n",
       "    </tr>\n",
       "  </thead>\n",
       "  <tbody>\n",
       "    <tr>\n",
       "      <th>608</th>\n",
       "      <td>LP002978</td>\n",
       "      <td>Female</td>\n",
       "      <td>No</td>\n",
       "      <td>0</td>\n",
       "      <td>Graduate</td>\n",
       "      <td>No</td>\n",
       "      <td>2900</td>\n",
       "      <td>0.0</td>\n",
       "      <td>71.0</td>\n",
       "      <td>360.0</td>\n",
       "      <td>1.0</td>\n",
       "      <td>Rural</td>\n",
       "      <td>Y</td>\n",
       "    </tr>\n",
       "    <tr>\n",
       "      <th>609</th>\n",
       "      <td>LP002979</td>\n",
       "      <td>Male</td>\n",
       "      <td>Yes</td>\n",
       "      <td>3+</td>\n",
       "      <td>Graduate</td>\n",
       "      <td>No</td>\n",
       "      <td>4106</td>\n",
       "      <td>0.0</td>\n",
       "      <td>40.0</td>\n",
       "      <td>180.0</td>\n",
       "      <td>1.0</td>\n",
       "      <td>Rural</td>\n",
       "      <td>Y</td>\n",
       "    </tr>\n",
       "    <tr>\n",
       "      <th>610</th>\n",
       "      <td>LP002983</td>\n",
       "      <td>Male</td>\n",
       "      <td>Yes</td>\n",
       "      <td>1</td>\n",
       "      <td>Graduate</td>\n",
       "      <td>No</td>\n",
       "      <td>8072</td>\n",
       "      <td>240.0</td>\n",
       "      <td>253.0</td>\n",
       "      <td>360.0</td>\n",
       "      <td>1.0</td>\n",
       "      <td>Urban</td>\n",
       "      <td>Y</td>\n",
       "    </tr>\n",
       "    <tr>\n",
       "      <th>611</th>\n",
       "      <td>LP002984</td>\n",
       "      <td>Male</td>\n",
       "      <td>Yes</td>\n",
       "      <td>2</td>\n",
       "      <td>Graduate</td>\n",
       "      <td>No</td>\n",
       "      <td>7583</td>\n",
       "      <td>0.0</td>\n",
       "      <td>187.0</td>\n",
       "      <td>360.0</td>\n",
       "      <td>1.0</td>\n",
       "      <td>Urban</td>\n",
       "      <td>Y</td>\n",
       "    </tr>\n",
       "    <tr>\n",
       "      <th>612</th>\n",
       "      <td>LP002990</td>\n",
       "      <td>Female</td>\n",
       "      <td>No</td>\n",
       "      <td>0</td>\n",
       "      <td>Graduate</td>\n",
       "      <td>Yes</td>\n",
       "      <td>4583</td>\n",
       "      <td>0.0</td>\n",
       "      <td>133.0</td>\n",
       "      <td>360.0</td>\n",
       "      <td>0.0</td>\n",
       "      <td>Semiurban</td>\n",
       "      <td>N</td>\n",
       "    </tr>\n",
       "  </tbody>\n",
       "</table>\n",
       "</div>"
      ],
      "text/plain": [
       "     LP001002    Male   No   0  Graduate No.1  5849    0.1  Unnamed: 8    360  \\\n",
       "608  LP002978  Female   No   0  Graduate   No  2900    0.0        71.0  360.0   \n",
       "609  LP002979    Male  Yes  3+  Graduate   No  4106    0.0        40.0  180.0   \n",
       "610  LP002983    Male  Yes   1  Graduate   No  8072  240.0       253.0  360.0   \n",
       "611  LP002984    Male  Yes   2  Graduate   No  7583    0.0       187.0  360.0   \n",
       "612  LP002990  Female   No   0  Graduate  Yes  4583    0.0       133.0  360.0   \n",
       "\n",
       "       1      Urban  Y  \n",
       "608  1.0      Rural  Y  \n",
       "609  1.0      Rural  Y  \n",
       "610  1.0      Urban  Y  \n",
       "611  1.0      Urban  Y  \n",
       "612  0.0  Semiurban  N  "
      ]
     },
     "execution_count": 4,
     "metadata": {},
     "output_type": "execute_result"
    }
   ],
   "source": [
    "df.tail()"
   ]
  },
  {
   "cell_type": "code",
   "execution_count": 5,
   "id": "b890504a",
   "metadata": {},
   "outputs": [
    {
     "data": {
      "text/plain": [
       "Index(['LP001002', 'Male', 'No', '0', 'Graduate', 'No.1', '5849', '0.1',\n",
       "       'Unnamed: 8', '360', '1', 'Urban', 'Y'],\n",
       "      dtype='object')"
      ]
     },
     "execution_count": 5,
     "metadata": {},
     "output_type": "execute_result"
    }
   ],
   "source": [
    "df.columns"
   ]
  },
  {
   "cell_type": "code",
   "execution_count": 6,
   "id": "05ee5ffd",
   "metadata": {},
   "outputs": [
    {
     "name": "stdout",
     "output_type": "stream",
     "text": [
      "The shape of dataset is: (613, 13)\n"
     ]
    }
   ],
   "source": [
    "print(\"The shape of dataset is:\",df.shape)"
   ]
  },
  {
   "cell_type": "code",
   "execution_count": 7,
   "id": "6a702004",
   "metadata": {},
   "outputs": [
    {
     "name": "stdout",
     "output_type": "stream",
     "text": [
      "rows and columns after dropping duplicates:  (613, 13)\n"
     ]
    }
   ],
   "source": [
    "df=df.drop_duplicates()\n",
    "print(f\"rows and columns after dropping duplicates: \" ,df.shape)"
   ]
  },
  {
   "cell_type": "code",
   "execution_count": 8,
   "id": "61b99ffa",
   "metadata": {},
   "outputs": [
    {
     "name": "stdout",
     "output_type": "stream",
     "text": [
      "Columns and Data Types:\n",
      "LP001002       object\n",
      "Male           object\n",
      "No             object\n",
      "0              object\n",
      "Graduate       object\n",
      "No.1           object\n",
      "5849            int64\n",
      "0.1           float64\n",
      "Unnamed: 8    float64\n",
      "360           float64\n",
      "1             float64\n",
      "Urban          object\n",
      "Y              object\n",
      "dtype: object\n"
     ]
    }
   ],
   "source": [
    "print(\"Columns and Data Types:\")\n",
    "print(df.dtypes)"
   ]
  },
  {
   "cell_type": "code",
   "execution_count": 9,
   "id": "6f24dd2e",
   "metadata": {},
   "outputs": [
    {
     "name": "stdout",
     "output_type": "stream",
     "text": [
      "<class 'pandas.core.frame.DataFrame'>\n",
      "Int64Index: 613 entries, 0 to 612\n",
      "Data columns (total 13 columns):\n",
      " #   Column      Non-Null Count  Dtype  \n",
      "---  ------      --------------  -----  \n",
      " 0   LP001002    613 non-null    object \n",
      " 1   Male        600 non-null    object \n",
      " 2   No          610 non-null    object \n",
      " 3   0           598 non-null    object \n",
      " 4   Graduate    613 non-null    object \n",
      " 5   No.1        581 non-null    object \n",
      " 6   5849        613 non-null    int64  \n",
      " 7   0.1         613 non-null    float64\n",
      " 8   Unnamed: 8  592 non-null    float64\n",
      " 9   360         599 non-null    float64\n",
      " 10  1           563 non-null    float64\n",
      " 11  Urban       613 non-null    object \n",
      " 12  Y           613 non-null    object \n",
      "dtypes: float64(4), int64(1), object(8)\n",
      "memory usage: 67.0+ KB\n"
     ]
    }
   ],
   "source": [
    "df.info()"
   ]
  },
  {
   "cell_type": "code",
   "execution_count": 10,
   "id": "c4bd57f7",
   "metadata": {},
   "outputs": [
    {
     "data": {
      "text/plain": [
       "LP001002       0\n",
       "Male          13\n",
       "No             3\n",
       "0             15\n",
       "Graduate       0\n",
       "No.1          32\n",
       "5849           0\n",
       "0.1            0\n",
       "Unnamed: 8    21\n",
       "360           14\n",
       "1             50\n",
       "Urban          0\n",
       "Y              0\n",
       "dtype: int64"
      ]
     },
     "execution_count": 10,
     "metadata": {},
     "output_type": "execute_result"
    }
   ],
   "source": [
    "df.isnull().sum()"
   ]
  },
  {
   "cell_type": "markdown",
   "id": "3c020cf7",
   "metadata": {},
   "source": [
    "# Exploratory Data Analysis(EDA)"
   ]
  },
  {
   "cell_type": "code",
   "execution_count": 11,
   "id": "808c13ee",
   "metadata": {},
   "outputs": [
    {
     "name": "stdout",
     "output_type": "stream",
     "text": [
      "object data type columns are:\n",
      " ['LP001002', 'Male', 'No', '0', 'Graduate', 'No.1', 'Urban', 'Y']\n"
     ]
    }
   ],
   "source": [
    "categorical_col=[]\n",
    "for x in df.dtypes.index:\n",
    "    if df.dtypes[x]=='O':\n",
    "        categorical_col.append(x)\n",
    "print(f\"object data type columns are:\\n\",categorical_col)"
   ]
  },
  {
   "cell_type": "code",
   "execution_count": 12,
   "id": "0c69dbc1",
   "metadata": {},
   "outputs": [
    {
     "name": "stdout",
     "output_type": "stream",
     "text": [
      "\n",
      "Number data type columns are:\n",
      " ['5849', '0.1', 'Unnamed: 8', '360', '1']\n"
     ]
    }
   ],
   "source": [
    "numerical_cols=[]\n",
    "for x in df.dtypes.index:\n",
    "    if df.dtypes[x]==\"float64\" or df.dtypes[x]==\"int64\":\n",
    "        numerical_cols.append(x)\n",
    "print(f\"\\nNumber data type columns are:\\n\",numerical_cols)"
   ]
  },
  {
   "cell_type": "code",
   "execution_count": 13,
   "id": "f0999236",
   "metadata": {},
   "outputs": [],
   "source": [
    "for col in categorical_col:\n",
    "    mode_value=df[col].mode()[0]\n",
    "    df[col].fillna(mode_value,inplace=True)"
   ]
  },
  {
   "cell_type": "code",
   "execution_count": 14,
   "id": "186e0b2c",
   "metadata": {},
   "outputs": [],
   "source": [
    "for col in numerical_cols:\n",
    "    mean_value=df[col].mean()\n",
    "    df[col].fillna(mean_value,inplace=True)"
   ]
  },
  {
   "cell_type": "code",
   "execution_count": 15,
   "id": "be5abaea",
   "metadata": {},
   "outputs": [
    {
     "data": {
      "text/plain": [
       "LP001002      0\n",
       "Male          0\n",
       "No            0\n",
       "0             0\n",
       "Graduate      0\n",
       "No.1          0\n",
       "5849          0\n",
       "0.1           0\n",
       "Unnamed: 8    0\n",
       "360           0\n",
       "1             0\n",
       "Urban         0\n",
       "Y             0\n",
       "dtype: int64"
      ]
     },
     "execution_count": 15,
     "metadata": {},
     "output_type": "execute_result"
    }
   ],
   "source": [
    "df.isnull().sum()"
   ]
  },
  {
   "cell_type": "code",
   "execution_count": 16,
   "id": "d6690f40",
   "metadata": {},
   "outputs": [
    {
     "data": {
      "text/html": [
       "<div>\n",
       "<style scoped>\n",
       "    .dataframe tbody tr th:only-of-type {\n",
       "        vertical-align: middle;\n",
       "    }\n",
       "\n",
       "    .dataframe tbody tr th {\n",
       "        vertical-align: top;\n",
       "    }\n",
       "\n",
       "    .dataframe thead th {\n",
       "        text-align: right;\n",
       "    }\n",
       "</style>\n",
       "<table border=\"1\" class=\"dataframe\">\n",
       "  <thead>\n",
       "    <tr style=\"text-align: right;\">\n",
       "      <th></th>\n",
       "      <th>5849</th>\n",
       "      <th>0.1</th>\n",
       "      <th>Unnamed: 8</th>\n",
       "      <th>360</th>\n",
       "      <th>1</th>\n",
       "    </tr>\n",
       "  </thead>\n",
       "  <tbody>\n",
       "    <tr>\n",
       "      <th>count</th>\n",
       "      <td>613.000000</td>\n",
       "      <td>613.000000</td>\n",
       "      <td>613.000000</td>\n",
       "      <td>613.000000</td>\n",
       "      <td>613.000000</td>\n",
       "    </tr>\n",
       "    <tr>\n",
       "      <th>mean</th>\n",
       "      <td>5402.732463</td>\n",
       "      <td>1623.890571</td>\n",
       "      <td>146.412162</td>\n",
       "      <td>341.969950</td>\n",
       "      <td>0.841918</td>\n",
       "    </tr>\n",
       "    <tr>\n",
       "      <th>std</th>\n",
       "      <td>6114.004114</td>\n",
       "      <td>2927.903583</td>\n",
       "      <td>84.106098</td>\n",
       "      <td>64.420943</td>\n",
       "      <td>0.349908</td>\n",
       "    </tr>\n",
       "    <tr>\n",
       "      <th>min</th>\n",
       "      <td>150.000000</td>\n",
       "      <td>0.000000</td>\n",
       "      <td>9.000000</td>\n",
       "      <td>12.000000</td>\n",
       "      <td>0.000000</td>\n",
       "    </tr>\n",
       "    <tr>\n",
       "      <th>25%</th>\n",
       "      <td>2876.000000</td>\n",
       "      <td>0.000000</td>\n",
       "      <td>100.000000</td>\n",
       "      <td>360.000000</td>\n",
       "      <td>1.000000</td>\n",
       "    </tr>\n",
       "    <tr>\n",
       "      <th>50%</th>\n",
       "      <td>3812.000000</td>\n",
       "      <td>1210.000000</td>\n",
       "      <td>129.000000</td>\n",
       "      <td>360.000000</td>\n",
       "      <td>1.000000</td>\n",
       "    </tr>\n",
       "    <tr>\n",
       "      <th>75%</th>\n",
       "      <td>5780.000000</td>\n",
       "      <td>2302.000000</td>\n",
       "      <td>165.000000</td>\n",
       "      <td>360.000000</td>\n",
       "      <td>1.000000</td>\n",
       "    </tr>\n",
       "    <tr>\n",
       "      <th>max</th>\n",
       "      <td>81000.000000</td>\n",
       "      <td>41667.000000</td>\n",
       "      <td>700.000000</td>\n",
       "      <td>480.000000</td>\n",
       "      <td>1.000000</td>\n",
       "    </tr>\n",
       "  </tbody>\n",
       "</table>\n",
       "</div>"
      ],
      "text/plain": [
       "               5849           0.1  Unnamed: 8         360           1\n",
       "count    613.000000    613.000000  613.000000  613.000000  613.000000\n",
       "mean    5402.732463   1623.890571  146.412162  341.969950    0.841918\n",
       "std     6114.004114   2927.903583   84.106098   64.420943    0.349908\n",
       "min      150.000000      0.000000    9.000000   12.000000    0.000000\n",
       "25%     2876.000000      0.000000  100.000000  360.000000    1.000000\n",
       "50%     3812.000000   1210.000000  129.000000  360.000000    1.000000\n",
       "75%     5780.000000   2302.000000  165.000000  360.000000    1.000000\n",
       "max    81000.000000  41667.000000  700.000000  480.000000    1.000000"
      ]
     },
     "execution_count": 16,
     "metadata": {},
     "output_type": "execute_result"
    }
   ],
   "source": [
    "df.describe()"
   ]
  },
  {
   "cell_type": "code",
   "execution_count": 17,
   "id": "95cb385d",
   "metadata": {},
   "outputs": [
    {
     "data": {
      "text/html": [
       "<div>\n",
       "<style scoped>\n",
       "    .dataframe tbody tr th:only-of-type {\n",
       "        vertical-align: middle;\n",
       "    }\n",
       "\n",
       "    .dataframe tbody tr th {\n",
       "        vertical-align: top;\n",
       "    }\n",
       "\n",
       "    .dataframe thead th {\n",
       "        text-align: right;\n",
       "    }\n",
       "</style>\n",
       "<table border=\"1\" class=\"dataframe\">\n",
       "  <thead>\n",
       "    <tr style=\"text-align: right;\">\n",
       "      <th></th>\n",
       "      <th>unique values</th>\n",
       "    </tr>\n",
       "  </thead>\n",
       "  <tbody>\n",
       "    <tr>\n",
       "      <th>LP001002</th>\n",
       "      <td>613</td>\n",
       "    </tr>\n",
       "    <tr>\n",
       "      <th>Male</th>\n",
       "      <td>2</td>\n",
       "    </tr>\n",
       "    <tr>\n",
       "      <th>No</th>\n",
       "      <td>2</td>\n",
       "    </tr>\n",
       "    <tr>\n",
       "      <th>0</th>\n",
       "      <td>4</td>\n",
       "    </tr>\n",
       "    <tr>\n",
       "      <th>Graduate</th>\n",
       "      <td>2</td>\n",
       "    </tr>\n",
       "    <tr>\n",
       "      <th>No.1</th>\n",
       "      <td>2</td>\n",
       "    </tr>\n",
       "    <tr>\n",
       "      <th>5849</th>\n",
       "      <td>504</td>\n",
       "    </tr>\n",
       "    <tr>\n",
       "      <th>0.1</th>\n",
       "      <td>287</td>\n",
       "    </tr>\n",
       "    <tr>\n",
       "      <th>Unnamed: 8</th>\n",
       "      <td>204</td>\n",
       "    </tr>\n",
       "    <tr>\n",
       "      <th>360</th>\n",
       "      <td>11</td>\n",
       "    </tr>\n",
       "    <tr>\n",
       "      <th>1</th>\n",
       "      <td>3</td>\n",
       "    </tr>\n",
       "    <tr>\n",
       "      <th>Urban</th>\n",
       "      <td>3</td>\n",
       "    </tr>\n",
       "    <tr>\n",
       "      <th>Y</th>\n",
       "      <td>2</td>\n",
       "    </tr>\n",
       "  </tbody>\n",
       "</table>\n",
       "</div>"
      ],
      "text/plain": [
       "            unique values\n",
       "LP001002              613\n",
       "Male                    2\n",
       "No                      2\n",
       "0                       4\n",
       "Graduate                2\n",
       "No.1                    2\n",
       "5849                  504\n",
       "0.1                   287\n",
       "Unnamed: 8            204\n",
       "360                    11\n",
       "1                       3\n",
       "Urban                   3\n",
       "Y                       2"
      ]
     },
     "execution_count": 17,
     "metadata": {},
     "output_type": "execute_result"
    }
   ],
   "source": [
    "df.nunique().to_frame(\"unique values\")"
   ]
  },
  {
   "cell_type": "code",
   "execution_count": 18,
   "id": "9d7d356f",
   "metadata": {},
   "outputs": [
    {
     "data": {
      "text/plain": [
       "<Axes: >"
      ]
     },
     "execution_count": 18,
     "metadata": {},
     "output_type": "execute_result"
    },
    {
     "data": {
      "image/png": "[encoded data removed]",
      "text/plain": [
       "<Figure size 640x480 with 2 Axes>"
      ]
     },
     "metadata": {},
     "output_type": "display_data"
    }
   ],
   "source": [
    "sns.heatmap(df.isnull())"
   ]
  },
  {
   "cell_type": "code",
   "execution_count": 19,
   "id": "79fac499",
   "metadata": {},
   "outputs": [
    {
     "name": "stdout",
     "output_type": "stream",
     "text": [
      "LP001003    1\n",
      "LP002332    1\n",
      "LP002308    1\n",
      "LP002314    1\n",
      "LP002315    1\n",
      "           ..\n",
      "LP001693    1\n",
      "LP001698    1\n",
      "LP001699    1\n",
      "LP001702    1\n",
      "LP002990    1\n",
      "Name: LP001002, Length: 613, dtype: int64\n",
      "\n",
      "\n",
      "Male      501\n",
      "Female    112\n",
      "Name: Male, dtype: int64\n",
      "\n",
      "\n",
      "Yes    401\n",
      "No     212\n",
      "Name: No, dtype: int64\n",
      "\n",
      "\n",
      "0     359\n",
      "1     102\n",
      "2     101\n",
      "3+     51\n",
      "Name: 0, dtype: int64\n",
      "\n",
      "\n",
      "Graduate        479\n",
      "Not Graduate    134\n",
      "Name: Graduate, dtype: int64\n",
      "\n",
      "\n",
      "No     531\n",
      "Yes     82\n",
      "Name: No.1, dtype: int64\n",
      "\n",
      "\n",
      "2500    9\n",
      "4583    6\n",
      "2600    6\n",
      "6000    6\n",
      "5000    5\n",
      "       ..\n",
      "3244    1\n",
      "4408    1\n",
      "3917    1\n",
      "3992    1\n",
      "7583    1\n",
      "Name: 5849, Length: 504, dtype: int64\n",
      "\n",
      "\n",
      "0.0       272\n",
      "2500.0      5\n",
      "2083.0      5\n",
      "1666.0      5\n",
      "1459.0      3\n",
      "         ... \n",
      "2791.0      1\n",
      "1010.0      1\n",
      "1695.0      1\n",
      "2598.0      1\n",
      "240.0       1\n",
      "Name: 0.1, Length: 287, dtype: int64\n",
      "\n",
      "\n",
      "146.412162    21\n",
      "120.000000    20\n",
      "110.000000    17\n",
      "100.000000    15\n",
      "160.000000    12\n",
      "              ..\n",
      "240.000000     1\n",
      "214.000000     1\n",
      "59.000000      1\n",
      "166.000000     1\n",
      "253.000000     1\n",
      "Name: Unnamed: 8, Length: 204, dtype: int64\n",
      "\n",
      "\n",
      "360.00000    511\n",
      "180.00000     44\n",
      "480.00000     15\n",
      "341.96995     14\n",
      "300.00000     13\n",
      "240.00000      4\n",
      "84.00000       4\n",
      "120.00000      3\n",
      "60.00000       2\n",
      "36.00000       2\n",
      "12.00000       1\n",
      "Name: 360, dtype: int64\n",
      "\n",
      "\n",
      "1.000000    474\n",
      "0.000000     89\n",
      "0.841918     50\n",
      "Name: 1, dtype: int64\n",
      "\n",
      "\n",
      "Semiurban    233\n",
      "Urban        201\n",
      "Rural        179\n",
      "Name: Urban, dtype: int64\n",
      "\n",
      "\n",
      "Y    421\n",
      "N    192\n",
      "Name: Y, dtype: int64\n",
      "\n",
      "\n"
     ]
    }
   ],
   "source": [
    "for i in df.columns:\n",
    "    print(df[i].value_counts())\n",
    "    print(\"\\n\")"
   ]
  },
  {
   "cell_type": "code",
   "execution_count": 20,
   "id": "ae496ab7",
   "metadata": {},
   "outputs": [
    {
     "data": {
      "image/png": "[encoded data removed]",
      "text/plain": [
       "<Figure size 1200x800 with 6 Axes>"
      ]
     },
     "metadata": {},
     "output_type": "display_data"
    }
   ],
   "source": [
    "df[numerical_cols].hist(bins=20,figsize=(12,8))\n",
    "plt.suptitle('histograms of numerical columns')\n",
    "plt.show()"
   ]
  },
  {
   "cell_type": "code",
   "execution_count": 21,
   "id": "2d8fc07e",
   "metadata": {},
   "outputs": [
    {
     "data": {
      "image/png": "[encoded data removed]",
      "text/plain": [
       "<Figure size 800x500 with 1 Axes>"
      ]
     },
     "metadata": {},
     "output_type": "display_data"
    },
    {
     "data": {
      "image/png": "[encoded data removed]",
      "text/plain": [
       "<Figure size 800x500 with 1 Axes>"
      ]
     },
     "metadata": {},
     "output_type": "display_data"
    },
    {
     "data": {
      "image/png": "[encoded data removed]",
      "text/plain": [
       "<Figure size 800x500 with 1 Axes>"
      ]
     },
     "metadata": {},
     "output_type": "display_data"
    },
    {
     "data": {
      "image/png": "[encoded data removed]",
      "text/plain": [
       "<Figure size 800x500 with 1 Axes>"
      ]
     },
     "metadata": {},
     "output_type": "display_data"
    },
    {
     "data": {
      "image/png": "[encoded data removed]",
      "text/plain": [
       "<Figure size 800x500 with 1 Axes>"
      ]
     },
     "metadata": {},
     "output_type": "display_data"
    },
    {
     "data": {
      "image/png": "[encoded data removed]",
      "text/plain": [
       "<Figure size 800x500 with 1 Axes>"
      ]
     },
     "metadata": {},
     "output_type": "display_data"
    },
    {
     "data": {
      "image/png": "[encoded data removed]",
      "text/plain": [
       "<Figure size 800x500 with 1 Axes>"
      ]
     },
     "metadata": {},
     "output_type": "display_data"
    },
    {
     "data": {
      "image/png": "[encoded data removed]",
      "text/plain": [
       "<Figure size 800x500 with 1 Axes>"
      ]
     },
     "metadata": {},
     "output_type": "display_data"
    }
   ],
   "source": [
    "for col in categorical_col:\n",
    "    plt.figure(figsize=(8,5))\n",
    "    sns.countplot(x=col,data=df)\n",
    "    plt.title(f'Count plot of{col}')\n",
    "    plt.xticks(rotation=45)\n",
    "    plt.show()"
   ]
  },
  {
   "cell_type": "markdown",
   "id": "2eebc5ca",
   "metadata": {},
   "source": [
    "# Data Preprocessing and Feature Engineering"
   ]
  },
  {
   "cell_type": "code",
   "execution_count": 22,
   "id": "5bcea1ec",
   "metadata": {},
   "outputs": [
    {
     "name": "stdout",
     "output_type": "stream",
     "text": [
      "Shape after one-hot encoding: (613, 627)\n"
     ]
    }
   ],
   "source": [
    "df= pd.get_dummies(df, columns=categorical_col, drop_first=True)\n",
    "print(\"Shape after one-hot encoding:\", df.shape)"
   ]
  },
  {
   "cell_type": "code",
   "execution_count": 23,
   "id": "8144f55e",
   "metadata": {},
   "outputs": [],
   "source": [
    "scaler = StandardScaler()\n",
    "df= df.copy()  \n",
    "df[numerical_cols] = scaler.fit_transform(df[numerical_cols])"
   ]
  },
  {
   "cell_type": "code",
   "execution_count": 24,
   "id": "63fea33e",
   "metadata": {},
   "outputs": [],
   "source": [
    "df['TotalIncome'] = df['5849'] + df['0.1']  \n",
    "df['LoanAmount/Income'] = df['1'] / df['360']"
   ]
  },
  {
   "cell_type": "code",
   "execution_count": 25,
   "id": "8a063a2d",
   "metadata": {},
   "outputs": [],
   "source": [
    "df= pd.get_dummies(df, drop_first=True)"
   ]
  },
  {
   "cell_type": "code",
   "execution_count": 26,
   "id": "d437ab22",
   "metadata": {},
   "outputs": [],
   "source": [
    "df['TotalIncome'] = df['5849'] + df['0.1']"
   ]
  },
  {
   "cell_type": "code",
   "execution_count": 27,
   "id": "d0535156",
   "metadata": {},
   "outputs": [],
   "source": [
    "x = df.drop('Y_Y', axis=1)\n",
    "y = df['Y_Y']"
   ]
  },
  {
   "cell_type": "markdown",
   "id": "a7df9e44",
   "metadata": {},
   "source": [
    "# Model Building"
   ]
  },
  {
   "cell_type": "markdown",
   "id": "60da5edd",
   "metadata": {},
   "source": [
    "We will buildnand evaluate multiple models on the dateset, including Logistic Regression and Rnadom Forest Classifier. We use performance metrics such as accuracy precision recall and F1-score to evaluate the models and compared their performance. "
   ]
  },
  {
   "cell_type": "code",
   "execution_count": 28,
   "id": "c038ff3f",
   "metadata": {},
   "outputs": [],
   "source": [
    "x_train, x_test, y_train, y_test = train_test_split(x, y, test_size=0.2, random_state=42)"
   ]
  },
  {
   "cell_type": "code",
   "execution_count": 29,
   "id": "b081113c",
   "metadata": {},
   "outputs": [],
   "source": [
    "from sklearn.metrics import accuracy_score, precision_score, recall_score, f1_score, roc_auc_score\n"
   ]
  },
  {
   "cell_type": "markdown",
   "id": "a7970a46",
   "metadata": {},
   "source": [
    "# Model evaluation "
   ]
  },
  {
   "cell_type": "code",
   "execution_count": 30,
   "id": "0e2e57fd",
   "metadata": {},
   "outputs": [
    {
     "name": "stdout",
     "output_type": "stream",
     "text": [
      "accuracy of logistic regression: 0.3008130081300813\n"
     ]
    }
   ],
   "source": [
    "logistic_model=LogisticRegression(random_state=42)\n",
    "logistic_model.fit(x_train,y_train)\n",
    "y_pred_logistic=logistic_model.predict(x_test)\n",
    "accuracy_logistic=accuracy_score(y_test,y_pred_logistic)\n",
    "print(\"accuracy of logistic regression:\", accuracy_logistic)"
   ]
  },
  {
   "cell_type": "code",
   "execution_count": 31,
   "id": "698a9860",
   "metadata": {},
   "outputs": [
    {
     "name": "stdout",
     "output_type": "stream",
     "text": [
      "Accuracy of Random Forest: 0.8130081300813008\n",
      "Classification Report for Random Forest:\n",
      "              precision    recall  f1-score   support\n",
      "\n",
      "           0       0.94      0.41      0.57        37\n",
      "           1       0.79      0.99      0.88        86\n",
      "\n",
      "    accuracy                           0.81       123\n",
      "   macro avg       0.87      0.70      0.72       123\n",
      "weighted avg       0.84      0.81      0.79       123\n",
      "\n",
      "Confusion Matrix for Random Forest:\n",
      "[[15 22]\n",
      " [ 1 85]]\n"
     ]
    }
   ],
   "source": [
    "rf_model= RandomForestClassifier(random_state=42)\n",
    "rf_model.fit(x_train, y_train)\n",
    "y_pred_rf = rf_model.predict(x_test)\n",
    "accuracy_rf = accuracy_score(y_test, y_pred_rf)\n",
    "print(\"Accuracy of Random Forest:\", accuracy_rf)\n",
    "\n",
    "print(\"Classification Report for Random Forest:\")\n",
    "print(classification_report(y_test, y_pred_rf))\n",
    "\n",
    "print(\"Confusion Matrix for Random Forest:\")\n",
    "print(confusion_matrix(y_test, y_pred_rf))"
   ]
  },
  {
   "cell_type": "code",
   "execution_count": 32,
   "id": "3be10756",
   "metadata": {},
   "outputs": [
    {
     "name": "stdout",
     "output_type": "stream",
     "text": [
      "Best Parameters: {'max_depth': None, 'min_samples_leaf': 1, 'min_samples_split': 2, 'n_estimators': 200}\n",
      "Accuracy of Tuned Random Forest: 0.8130081300813008\n",
      "Classification Report for Tuned Random Forest:\n",
      "              precision    recall  f1-score   support\n",
      "\n",
      "           0       0.94      0.41      0.57        37\n",
      "           1       0.79      0.99      0.88        86\n",
      "\n",
      "    accuracy                           0.81       123\n",
      "   macro avg       0.87      0.70      0.72       123\n",
      "weighted avg       0.84      0.81      0.79       123\n",
      "\n",
      "Confusion Matrix for Tuned Random Forest:\n",
      "[[15 22]\n",
      " [ 1 85]]\n"
     ]
    }
   ],
   "source": [
    "param_grid = {\n",
    "    'n_estimators': [100, 200, 300],\n",
    "    'max_depth': [None, 10, 20],\n",
    "    'min_samples_split': [2, 5, 10],\n",
    "    'min_samples_leaf': [1, 2, 4]\n",
    "}\n",
    "rf_model_tuned = RandomForestClassifier(random_state=42)\n",
    "grid_search = GridSearchCV(estimator=rf_model_tuned, param_grid=param_grid, cv=5, scoring='accuracy')\n",
    "grid_search.fit(x_train, y_train)\n",
    "print(\"Best Parameters:\", grid_search.best_params_)\n",
    "\n",
    "best_rf_model = grid_search.best_estimator_\n",
    "y_pred_rf_tuned = best_rf_model.predict(x_test)\n",
    "\n",
    "\n",
    "accuracy_rf_tuned = accuracy_score(y_test, y_pred_rf_tuned)\n",
    "print(\"Accuracy of Tuned Random Forest:\", accuracy_rf_tuned)\n",
    "\n",
    "print(\"Classification Report for Tuned Random Forest:\")\n",
    "print(classification_report(y_test, y_pred_rf_tuned))\n",
    "\n",
    "print(\"Confusion Matrix for Tuned Random Forest:\")\n",
    "print(confusion_matrix(y_test, y_pred_rf_tuned))"
   ]
  },
  {
   "cell_type": "markdown",
   "id": "090d6b2c",
   "metadata": {},
   "source": [
    "we evaluated the performance of ech model using cross-validation and identified the best perforing model based on the evaluation metrics. The Random Forest model showed heighest accuracy and was selected as the final model"
   ]
  },
  {
   "cell_type": "markdown",
   "id": "0573b59d",
   "metadata": {},
   "source": [
    "# Saving the model(conclusion)"
   ]
  },
  {
   "cell_type": "code",
   "execution_count": 33,
   "id": "dbb213d2",
   "metadata": {},
   "outputs": [],
   "source": [
    "import joblib"
   ]
  },
  {
   "cell_type": "code",
   "execution_count": 34,
   "id": "7e950bd3",
   "metadata": {},
   "outputs": [
    {
     "data": {
      "text/plain": [
       "['random_forest_loan_model.joblib']"
      ]
     },
     "execution_count": 34,
     "metadata": {},
     "output_type": "execute_result"
    }
   ],
   "source": [
    "joblib.dump(best_rf_model, 'random_forest_loan_model.joblib')"
   ]
  },
  {
   "cell_type": "code",
   "execution_count": 36,
   "id": "55a94d99",
   "metadata": {},
   "outputs": [
    {
     "name": "stdout",
     "output_type": "stream",
     "text": [
      "81.30081300813008\n"
     ]
    }
   ],
   "source": [
    "loaded_rf_model = joblib.load('random_forest_loan_model.joblib')\n",
    "result=loaded_rf_model.score(x_test,y_test)\n",
    "print(result*100)"
   ]
  },
  {
   "cell_type": "markdown",
   "id": "bbc2d0ef",
   "metadata": {},
   "source": [
    "In conclusion, we succesfully built and evaluated machine learninf models for predicting loan application status. The selected Random Forest model can be in production to assist financial institution in making decisiions about loan approvals"
   ]
  },
  {
   "cell_type": "code",
   "execution_count": null,
   "id": "c043e8dd",
   "metadata": {},
   "outputs": [],
   "source": []
  }
 ],
 "metadata": {
  "kernelspec": {
   "display_name": "Python 3 (ipykernel)",
   "language": "python",
   "name": "python3"
  },
  "language_info": {
   "codemirror_mode": {
    "name": "ipython",
    "version": 3
   },
   "file_extension": ".py",
   "mimetype": "text/x-python",
   "name": "python",
   "nbconvert_exporter": "python",
   "pygments_lexer": "ipython3",
   "version": "3.10.9"
  }
 },
 "nbformat": 4,
 "nbformat_minor": 5
}
